{
 "cells": [
  {
   "cell_type": "markdown",
   "id": "6ccd4c5d",
   "metadata": {},
   "source": [
    "# Numerical integration\n",
    "\n",
    "$$\n",
    "    \\int_{-1}^{+1} e^x dx = e^1 - e^{-1}\n",
    "$$"
   ]
  },
  {
   "cell_type": "code",
   "execution_count": 1,
   "id": "f1deb74b",
   "metadata": {},
   "outputs": [
    {
     "data": {
      "text/plain": [
       "2.3504023872876028"
      ]
     },
     "execution_count": 1,
     "metadata": {},
     "output_type": "execute_result"
    }
   ],
   "source": [
    "exact_result = exp(1) - exp(-1)"
   ]
  },
  {
   "cell_type": "markdown",
   "id": "8074e8ee",
   "metadata": {},
   "source": [
    "Chapter 5 of the textbook\n",
    "\n",
    "also\n",
    "\n",
    "[Chapter 3.5 of Digital Library of Mathematical Functions](https://dlmf.nist.gov/3.5)\n",
    "\n",
    "\n",
    "## Trapezoid rule \n",
    "\n",
    "![!](https://upload.wikimedia.org/wikipedia/commons/d/d1/Integration_num_trapezes_notation.svg)\n",
    "\n",
    "\n",
    "$$\n",
    "    \\int_{a}^{b} f(x)dx =  \\Delta x \\left[ \n",
    "       \\frac{1}{2}f(x_0) + \\sum_{k=1}^{N-1} f\\left(x_k\\right) + \\frac{1}{2}f(x_N)\n",
    "    \\right] + O( \\Delta x^2 ) \n",
    "$$\n",
    "where\n",
    "$$\n",
    "    x_k = a + k\\Delta x, \\qquad \\Delta x = (b - a)/N. \n",
    "$$\n",
    "\n",
    "\n",
    "$$\n",
    "    \\int_{a}^{b} f(x)dx =  \\sum_{k=0}^{N} w_k f\\left(x_k\\right) + O( \\Delta x^2 ) \n",
    "$$\n",
    "$$\n",
    "    w = [\\Delta x/2, \\Delta x, \\Delta x, \\ldots,  \\Delta x/2]\n",
    "$$"
   ]
  },
  {
   "cell_type": "code",
   "execution_count": 3,
   "id": "f69a4864",
   "metadata": {},
   "outputs": [
    {
     "data": {
      "text/plain": [
       "trapez (generic function with 1 method)"
      ]
     },
     "execution_count": 3,
     "metadata": {},
     "output_type": "execute_result"
    }
   ],
   "source": [
    "function trapez(f::Function, a::Real, b::Real, N::Int)\n",
    "    \n",
    "    # define the lattice\n",
    "    x = range(a, b, N + 1)\n",
    "    Δx = x[2] - x[1]\n",
    "    \n",
    "    # define weights\n",
    "    w = Δx .* ones(N + 1)\n",
    "    w[1] = Δx / 2\n",
    "    w[end] = Δx / 2\n",
    "\n",
    "\n",
    "    return sum(w .* f.(x))\n",
    "end"
   ]
  },
  {
   "cell_type": "code",
   "execution_count": null,
   "id": "c5e9e496",
   "metadata": {},
   "outputs": [],
   "source": []
  }
 ],
 "metadata": {
  "kernelspec": {
   "display_name": "Julia 1.8.5",
   "language": "julia",
   "name": "julia-1.8"
  },
  "language_info": {
   "file_extension": ".jl",
   "mimetype": "application/julia",
   "name": "julia",
   "version": "1.8.5"
  }
 },
 "nbformat": 4,
 "nbformat_minor": 5
}
