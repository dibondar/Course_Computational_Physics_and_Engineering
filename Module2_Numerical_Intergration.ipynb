{
 "cells": [
  {
   "cell_type": "markdown",
   "id": "6ccd4c5d",
   "metadata": {},
   "source": [
    "# Numerical integration\n",
    "\n",
    "$$\n",
    "    \\int_{-1}^{+1} e^x dx = e^1 - e^{-1}\n",
    "$$"
   ]
  },
  {
   "cell_type": "code",
   "execution_count": 1,
   "id": "f1deb74b",
   "metadata": {},
   "outputs": [
    {
     "data": {
      "text/plain": [
       "2.3504023872876028"
      ]
     },
     "execution_count": 1,
     "metadata": {},
     "output_type": "execute_result"
    }
   ],
   "source": [
    "exact_result = exp(1) - exp(-1)"
   ]
  },
  {
   "cell_type": "markdown",
   "id": "8074e8ee",
   "metadata": {},
   "source": [
    "Chapter 5 of the textbook\n",
    "\n",
    "also\n",
    "\n",
    "[Chapter 3.5 of Digital Library of Mathematical Functions](https://dlmf.nist.gov/3.5)\n",
    "\n",
    "\n",
    "## Trapezoid rule \n",
    "\n",
    "![!](https://upload.wikimedia.org/wikipedia/commons/d/d1/Integration_num_trapezes_notation.svg)\n",
    "\n",
    "\n",
    "$$\n",
    "    \\int_{a}^{b} f(x)dx =  \\Delta x \\left[ \n",
    "       \\frac{1}{2}f(x_0) + \\sum_{k=1}^{N-1} f\\left(x_k\\right) + \\frac{1}{2}f(x_N)\n",
    "    \\right] + O( \\Delta x^2 ) \n",
    "$$\n",
    "where\n",
    "$$\n",
    "    x_k = a + k\\Delta x, \\qquad \\Delta x = (b - a)/N. \n",
    "$$\n",
    "\n",
    "\n",
    "$$\n",
    "    \\int_{a}^{b} f(x)dx =  \\sum_{k=0}^{N} w_k f\\left(x_k\\right) + O( \\Delta x^2 ) \n",
    "$$\n",
    "$$\n",
    "    w = [\\Delta x/2, \\Delta x, \\Delta x, \\ldots,  \\Delta x/2]\n",
    "$$"
   ]
  },
  {
   "cell_type": "code",
   "execution_count": 2,
   "id": "f69a4864",
   "metadata": {},
   "outputs": [
    {
     "data": {
      "text/plain": [
       "trapez (generic function with 1 method)"
      ]
     },
     "execution_count": 2,
     "metadata": {},
     "output_type": "execute_result"
    }
   ],
   "source": [
    "function trapez(f::Function, a::Real, b::Real, N::Int)\n",
    "    \n",
    "    # define the lattice\n",
    "    x = range(a, b, N + 1)\n",
    "    Δx = x[2] - x[1]\n",
    "    \n",
    "    # define weights\n",
    "    w = Δx .* ones(N + 1)\n",
    "    w[1] = Δx / 2\n",
    "    w[end] = Δx / 2\n",
    "\n",
    "\n",
    "    return sum(w .* f.(x))\n",
    "end"
   ]
  },
  {
   "cell_type": "code",
   "execution_count": 16,
   "id": "c5e9e496",
   "metadata": {},
   "outputs": [],
   "source": [
    "N = [2 ^ k for k = 1:30]\n",
    "error_trapez = abs.(exact_result .- trapez.(exp, -1, +1, N));"
   ]
  },
  {
   "cell_type": "code",
   "execution_count": 17,
   "id": "1b6a5f0a",
   "metadata": {},
   "outputs": [
    {
     "data": {
      "image/png": "[encoded data removed]",
      "text/plain": [
       "Figure(PyObject <Figure size 640x480 with 1 Axes>)"
      ]
     },
     "metadata": {},
     "output_type": "display_data"
    }
   ],
   "source": [
    "using PyPlot\n",
    "\n",
    "loglog(N, error_trapez, label=\"trapez\")\n",
    "loglog(N, N .^ -2, label=L\"O(N^{-2}) = O(\\Delta x^2)\")\n",
    "xlabel(\"Number of points, N\")\n",
    "ylabel(\"error\")\n",
    "legend()\n",
    "show()"
   ]
  },
  {
   "cell_type": "markdown",
   "id": "3275ea3d",
   "metadata": {},
   "source": [
    "## Simpson's rule\n",
    "\n",
    "![!](https://upload.wikimedia.org/wikipedia/commons/f/fc/Simpson%27s_One-Third_Rule.gif)\n",
    "\n",
    "$$\n",
    "    \\int_{a}^{b} f(x)dx = \\frac{\\Delta x}{3} \\left[ \n",
    "        f(x_0) + 4f(x_1) + 2f(x_2) + 4f(x_3) + \\cdots + 4f(x_{N-1}) + f(x_N) \n",
    "    \\right] + O(\\Delta x^4)\n",
    "$$"
   ]
  },
  {
   "cell_type": "markdown",
   "id": "199bf6a3",
   "metadata": {},
   "source": [
    "## [Gauss Quadratures](http://dlmf.nist.gov/3.5.v)\n",
    "\n",
    "$$\n",
    "        \\int_a^b f(x) w(x) dx = \\sum_{k=1}^n w_k f(x_k) + \\gamma_n \\frac{f^{(2n)}(\\xi)}{(2n)!},\n",
    "$$\n",
    "where  $\\xi$ is an unknown value in between the bounds of integration, i.e., $a \\leq \\xi \\leq b$. The constant $\\gamma_n$, the coordinate grid $\\{ x_k \\}$ and weights $\\{ w_k \\}$ are determined only by $w(x)$ and the integration bounds and listed in the DLMF. The function $f(x)$ should be smooth, i.e., infinitely differentiable in the region of integration.\n",
    "\n",
    "\n",
    "Our example, $\\int_{-1}^{+1} e^x dx$, can be integrated by using the [Gauss–Legendre Formula](http://dlmf.nist.gov/3.5.E21) with $f(x) = e^x$ and $w(x) = 1$."
   ]
  },
  {
   "cell_type": "code",
   "execution_count": 19,
   "id": "1ef48fd9",
   "metadata": {},
   "outputs": [
    {
     "data": {
      "text/plain": [
       "1×5 Matrix{Float64}:\n",
       " 0.236927  0.478629  0.568889  0.478629  0.236927"
      ]
     },
     "execution_count": 19,
     "metadata": {},
     "output_type": "execute_result"
    }
   ],
   "source": [
    "x = [-0.906179845938664 -0.538469310105683 0 0.538469310105683 0.906179845938664]\n",
    "w = [0.236926885056189 0.478628670499366 0.568888888888889 0.478628670499366 0.236926885056189]"
   ]
  },
  {
   "cell_type": "code",
   "execution_count": 21,
   "id": "2380cc4d",
   "metadata": {},
   "outputs": [
    {
     "data": {
      "text/plain": [
       "-8.24778023655881e-10"
      ]
     },
     "execution_count": 21,
     "metadata": {},
     "output_type": "execute_result"
    }
   ],
   "source": [
    "sum(w .* exp.(x)) - exact_result"
   ]
  },
  {
   "cell_type": "markdown",
   "id": "6e8a3bb8",
   "metadata": {},
   "source": [
    "## An example of being smarter than Newton!\n",
    "\n",
    "See the YouTube video about the history of\n",
    "$$\n",
    "    \\pi = 4\\int_0^1 \\sqrt{1-x^2} dx\n",
    "$$\n",
    "\n",
    "[![IMAGE_ALT](https://img.youtube.com/vi/gMlf1ELvRzc/0.jpg)](https://www.youtube.com/watch?v=gMlf1ELvRzc)\n",
    "\n",
    "Here is the Goverment's [definition of $\\pi$](http://dlmf.nist.gov/3.12.E2). A func fact that [The State of Indiana nearly passed a law which would have made $\\pi = 3.2$](https://www.youtube.com/watch?v=bFNjA9LOPsg).\n",
    "\n",
    "Let's do some rearrangement \n",
    "$$\n",
    "    4\\int_0^1 \\sqrt{1-x^2} dx = 2\\int_{-1}^1 \\sqrt{1-x^2} dx = 2\\int_{-1}^1 (1-x)^{1/2}(1+x)^{1/2} dx\n",
    "$$\n",
    "evaluating the integral as $2\\gamma_0$ for the [Gauss-Jacobi formula](http://dlmf.nist.gov/3.5.E26)"
   ]
  },
  {
   "cell_type": "code",
   "execution_count": 24,
   "id": "bcd35f37",
   "metadata": {},
   "outputs": [
    {
     "data": {
      "text/plain": [
       "3.1415926535897936"
      ]
     },
     "execution_count": 24,
     "metadata": {},
     "output_type": "execute_result"
    }
   ],
   "source": [
    "using SpecialFunctions\n",
    "\n",
    "2 * gamma(0 + 1/2 + 1) * gamma(0 + 1/2 + 1) * gamma(0 + 1/2 + 1/2 + 1) / (2 * gamma(2) ^ 2) * 4 * factorial(0)"
   ]
  },
  {
   "cell_type": "code",
   "execution_count": 25,
   "id": "ca6220ce",
   "metadata": {},
   "outputs": [
    {
     "data": {
      "text/plain": [
       "π = 3.1415926535897..."
      ]
     },
     "execution_count": 25,
     "metadata": {},
     "output_type": "execute_result"
    }
   ],
   "source": [
    "π"
   ]
  },
  {
   "cell_type": "markdown",
   "id": "0710761e",
   "metadata": {},
   "source": [
    "##  [QuadGK.jl](https://github.com/JuliaMath/QuadGK.jl) - library for numerical integration\n",
    "\n",
    "This powerful library performs 1d numerical integration using the adaptive Gauss-Kronrod quadrature. In real life projects, you should not reinvent the wheel and use this library by default. "
   ]
  },
  {
   "cell_type": "code",
   "execution_count": 27,
   "id": "36fd77f3",
   "metadata": {},
   "outputs": [],
   "source": [
    "using QuadGK"
   ]
  },
  {
   "cell_type": "code",
   "execution_count": 29,
   "id": "df2efd45",
   "metadata": {},
   "outputs": [
    {
     "data": {
      "text/plain": [
       "(2.3504023872876028, 2.220446049250313e-15)"
      ]
     },
     "execution_count": 29,
     "metadata": {},
     "output_type": "execute_result"
    }
   ],
   "source": [
    "result, error = quadgk(exp, -1, 1)"
   ]
  },
  {
   "cell_type": "code",
   "execution_count": 30,
   "id": "4f59bb3b",
   "metadata": {},
   "outputs": [
    {
     "data": {
      "text/plain": [
       "0.0"
      ]
     },
     "execution_count": 30,
     "metadata": {},
     "output_type": "execute_result"
    }
   ],
   "source": [
    "exact_result - result"
   ]
  },
  {
   "cell_type": "code",
   "execution_count": 38,
   "id": "0e491d68",
   "metadata": {},
   "outputs": [
    {
     "data": {
      "text/plain": [
       "(0.785398163400657, 5.56888573008035e-11)"
      ]
     },
     "execution_count": 38,
     "metadata": {},
     "output_type": "execute_result"
    }
   ],
   "source": [
    "result, error = quadgk(x -> sqrt(1 - x ^ 2), 0, 1, rtol=1e-10)"
   ]
  },
  {
   "cell_type": "code",
   "execution_count": 39,
   "id": "7d079bed",
   "metadata": {},
   "outputs": [
    {
     "data": {
      "text/plain": [
       "1.283506634308651e-11"
      ]
     },
     "execution_count": 39,
     "metadata": {},
     "output_type": "execute_result"
    }
   ],
   "source": [
    "4 * result - π"
   ]
  },
  {
   "cell_type": "markdown",
   "id": "f0ef624c",
   "metadata": {},
   "source": [
    "## The Curse of dimensionality - \n",
    "### A need to do $N^n$ exponential number of  evaluations as a function of spatial dimension $n$\n",
    "\n",
    "$$\n",
    "    \\int_{-1}^1 dx_1 \\cdots \\int_{-1}^1 dx_n f(x_1, \\ldots, x_n) \n",
    "    \\approx \\sum_{k_1=1}^N  \\sum_{k_2=1}^N \\sum_{k_3=1}^N \\cdots \\sum_{k_n=1}^N w_{k_1}^{(n)} \\cdots w_{k_n}^{(n)} f(x_{k_1}^{(1)}, \\ldots, x_{k_n}^{(n)})\n",
    "$$\n",
    "\n",
    "## Monte-Carlo integration\n",
    "\n",
    "![!](https://upload.wikimedia.org/wikipedia/commons/2/20/MonteCarloIntegrationCircle.svg)"
   ]
  },
  {
   "cell_type": "code",
   "execution_count": null,
   "id": "96854c83",
   "metadata": {},
   "outputs": [],
   "source": []
  }
 ],
 "metadata": {
  "kernelspec": {
   "display_name": "Julia 1.8.5",
   "language": "julia",
   "name": "julia-1.8"
  },
  "language_info": {
   "file_extension": ".jl",
   "mimetype": "application/julia",
   "name": "julia",
   "version": "1.8.5"
  }
 },
 "nbformat": 4,
 "nbformat_minor": 5
}
