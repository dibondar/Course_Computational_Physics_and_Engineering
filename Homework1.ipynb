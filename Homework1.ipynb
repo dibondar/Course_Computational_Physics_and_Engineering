{
 "cells": [
  {
   "cell_type": "markdown",
   "id": "6db8e8b2",
   "metadata": {},
   "source": [
    "# Homework 1\n",
    "\n",
    "Please follow the guidelines in Sec ***9. Homework Projects*** of the Syllabus. \n",
    "\n",
    "Homework projects must be submitted via Canvas as a *working* Jupyter notebook.\n",
    "\n",
    "## question 1\n",
    "\n",
    "Theoretically and numerically investigate the accuracy of the following finite difference approximation for the derivative: \n",
    "$$\n",
    "    \\frac{f(x) - f(x - \\Delta x)}{\\Delta x}.\n",
    "$$"
   ]
  },
  {
   "cell_type": "code",
   "execution_count": 3,
   "id": "7d1a0a3f",
   "metadata": {},
   "outputs": [
    {
     "ename": "LoadError",
     "evalue": "UndefVarError: mean not defined",
     "output_type": "error",
     "traceback": [
      "UndefVarError: mean not defined",
      "",
      "Stacktrace:",
      " [1] top-level scope",
      "   @ In[3]:1"
     ]
    }
   ],
   "source": [
    "mean(3, 3, 4)\n"
   ]
  },
  {
   "cell_type": "markdown",
   "id": "5b29c46b",
   "metadata": {},
   "source": [
    "## question 2\n",
    "\n",
    "What does the following fraction approximate?\n",
    "$$\n",
    "    \\frac{f(x + \\Delta x) - f(x) + f(x - \\Delta x)}{\\Delta x^2}.\n",
    "$$"
   ]
  },
  {
   "cell_type": "code",
   "execution_count": null,
   "id": "40a92a4b",
   "metadata": {},
   "outputs": [],
   "source": []
  },
  {
   "cell_type": "markdown",
   "id": "f0e08ba4",
   "metadata": {},
   "source": [
    "## question 3\n",
    "\n",
    "Implement Simpson's integration method."
   ]
  },
  {
   "cell_type": "code",
   "execution_count": null,
   "id": "d4acad14",
   "metadata": {},
   "outputs": [],
   "source": []
  },
  {
   "cell_type": "markdown",
   "id": "648fffce",
   "metadata": {},
   "source": [
    "## question 4\n",
    "\n",
    "Compare the accuracies of Simpson's and trapezoid integration methods (as a function of $N$)."
   ]
  },
  {
   "cell_type": "code",
   "execution_count": null,
   "id": "f58eb43a",
   "metadata": {},
   "outputs": [],
   "source": []
  },
  {
   "cell_type": "markdown",
   "id": "6c982363",
   "metadata": {},
   "source": [
    "## question 5 \n",
    "\n",
    "Assume you are asked to numerically evaluate the integral\n",
    "$$\n",
    "\t\\int_0^1 x^3 \\ln(1/x) dx.\n",
    "$$\n",
    "Which numerical method is the best? Motivate your answer\n",
    "\n",
    "Hint: It is one of the [Gaussian quadrature rules](https://dlmf.nist.gov/3.5#v)"
   ]
  },
  {
   "cell_type": "code",
   "execution_count": null,
   "id": "3949eb5a",
   "metadata": {},
   "outputs": [],
   "source": []
  },
  {
   "cell_type": "markdown",
   "id": "3a245697",
   "metadata": {},
   "source": [
    "## question 6: extra credit for 3170, required for 6170\n",
    "\n",
    "According to [*the Digital Library of Mathematical Functions*](http://dlmf.nist.gov/3.5.E4), the trapezoid integration rule should be very accurate for periodic functions. Illustrate that. \n",
    "\n",
    "Hint: You can use the following integral $\\int_0^{\\pi} \\cos(x)^2 dx$. Motivate why this integral is a good choice."
   ]
  },
  {
   "cell_type": "code",
   "execution_count": null,
   "id": "977fcee7",
   "metadata": {},
   "outputs": [],
   "source": []
  }
 ],
 "metadata": {
  "kernelspec": {
   "display_name": "Julia 1.8.5",
   "language": "julia",
   "name": "julia-1.8"
  },
  "language_info": {
   "file_extension": ".jl",
   "mimetype": "application/julia",
   "name": "julia",
   "version": "1.8.5"
  }
 },
 "nbformat": 4,
 "nbformat_minor": 5
}
