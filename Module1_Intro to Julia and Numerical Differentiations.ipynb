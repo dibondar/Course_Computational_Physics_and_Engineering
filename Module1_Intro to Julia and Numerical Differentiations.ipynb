{
 "cells": [
  {
   "cell_type": "markdown",
   "id": "dde0cb83",
   "metadata": {},
   "source": [
    "# Intro to Julia and Numerical Differentiations\n",
    "\n",
    "## Forward difference\n",
    "\n",
    "We would like to find the derivative of a function $f(x)$\n",
    "\n",
    "$$\n",
    "  f'(x) = \\lim_{\\Delta x \\to 0} \\frac{f(x+\\Delta x) - f(x)}{\\Delta x}\n",
    "$$\n",
    "Hence,\n",
    "$$\n",
    "  f'(x) \\approx \\frac{f(x+\\Delta x) - f(x)}{\\Delta x}\n",
    "$$\n",
    "or more formaly (using the asymptotic $O$ notation)\n",
    "$$\n",
    "  f'(x) + O(\\Delta x) = \\frac{f(x+\\Delta x) - f(x)}{\\Delta x}\n",
    "$$\n",
    "\n",
    "$$\n",
    "  error = \\left|f'(x) - \\frac{f(x+\\Delta x) - f(x)}{\\Delta x}\\right| =  O(\\Delta x)\n",
    "$$"
   ]
  },
  {
   "cell_type": "markdown",
   "id": "8d4b0f9a",
   "metadata": {},
   "source": [
    "## Example of round-off error"
   ]
  },
  {
   "cell_type": "code",
   "execution_count": 14,
   "id": "baca27ea",
   "metadata": {},
   "outputs": [
    {
     "data": {
      "text/plain": [
       "0.0"
      ]
     },
     "execution_count": 14,
     "metadata": {},
     "output_type": "execute_result"
    }
   ],
   "source": [
    "Δx = 1e-90\n",
    "x = 0\n",
    "\n",
    "(exp(x + Δx) - exp(x)) / Δx"
   ]
  },
  {
   "cell_type": "code",
   "execution_count": 2,
   "id": "755ea944",
   "metadata": {},
   "outputs": [
    {
     "data": {
      "text/plain": [
       "1.0"
      ]
     },
     "execution_count": 2,
     "metadata": {},
     "output_type": "execute_result"
    }
   ],
   "source": [
    "exp(0)"
   ]
  },
  {
   "cell_type": "markdown",
   "id": "68abac16",
   "metadata": {},
   "source": [
    "## Functions"
   ]
  },
  {
   "cell_type": "code",
   "execution_count": 15,
   "id": "b24bfc85",
   "metadata": {},
   "outputs": [
    {
     "data": {
      "text/plain": [
       "forward_diff (generic function with 1 method)"
      ]
     },
     "execution_count": 15,
     "metadata": {},
     "output_type": "execute_result"
    }
   ],
   "source": [
    "function forward_diff(f, x, Δx)\n",
    "    return (f(x + Δx) - f(x)) / Δx\n",
    "end"
   ]
  },
  {
   "cell_type": "code",
   "execution_count": 21,
   "id": "0cdf8187",
   "metadata": {},
   "outputs": [
    {
     "data": {
      "text/plain": [
       "1.0000004999621837"
      ]
     },
     "execution_count": 21,
     "metadata": {},
     "output_type": "execute_result"
    }
   ],
   "source": [
    "forward_diff(exp, 0, 1e-6)"
   ]
  },
  {
   "cell_type": "code",
   "execution_count": null,
   "id": "708309d8",
   "metadata": {},
   "outputs": [],
   "source": []
  }
 ],
 "metadata": {
  "kernelspec": {
   "display_name": "Julia 1.8.0-beta3",
   "language": "julia",
   "name": "julia-1.8"
  },
  "language_info": {
   "file_extension": ".jl",
   "mimetype": "application/julia",
   "name": "julia",
   "version": "1.8.0"
  }
 },
 "nbformat": 4,
 "nbformat_minor": 5
}
