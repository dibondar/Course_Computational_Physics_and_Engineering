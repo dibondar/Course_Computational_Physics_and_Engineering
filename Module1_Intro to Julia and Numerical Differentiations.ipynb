{
 "cells": [
  {
   "cell_type": "markdown",
   "id": "dde0cb83",
   "metadata": {},
   "source": [
    "# Intro to Julia and Numerical Differentiations\n",
    "\n",
    "## Forward difference\n",
    "\n",
    "We would like to find the derivative of a function $f(x)$\n",
    "\n",
    "$$\n",
    "  f'(x) = \\lim_{\\Delta x \\to 0} \\frac{f(x+\\Delta x) - f(x)}{\\Delta x}\n",
    "$$\n",
    "Hence,\n",
    "$$\n",
    "  f'(x) \\approx \\frac{f(x+\\Delta x) - f(x)}{\\Delta x}\n",
    "$$\n",
    "or more formaly (using the asymptotic $O$ notation)\n",
    "$$\n",
    "  f'(x) + O(\\Delta x) = \\frac{f(x+\\Delta x) - f(x)}{\\Delta x}\n",
    "$$\n",
    "\n",
    "$$\n",
    "  error = \\left|f'(x) - \\frac{f(x+\\Delta x) - f(x)}{\\Delta x}\\right| =  O(\\Delta x)\n",
    "$$"
   ]
  },
  {
   "cell_type": "markdown",
   "id": "8d4b0f9a",
   "metadata": {},
   "source": [
    "## Example of round-off error"
   ]
  },
  {
   "cell_type": "code",
   "execution_count": 1,
   "id": "baca27ea",
   "metadata": {},
   "outputs": [
    {
     "data": {
      "text/plain": [
       "0.0"
      ]
     },
     "execution_count": 1,
     "metadata": {},
     "output_type": "execute_result"
    }
   ],
   "source": [
    "Δx = 1e-90\n",
    "x = 0\n",
    "\n",
    "(exp(x + Δx) - exp(x)) / Δx"
   ]
  },
  {
   "cell_type": "code",
   "execution_count": 2,
   "id": "755ea944",
   "metadata": {},
   "outputs": [
    {
     "data": {
      "text/plain": [
       "1.0"
      ]
     },
     "execution_count": 2,
     "metadata": {},
     "output_type": "execute_result"
    }
   ],
   "source": [
    "exp(0)"
   ]
  },
  {
   "cell_type": "markdown",
   "id": "68abac16",
   "metadata": {},
   "source": [
    "## Functions"
   ]
  },
  {
   "cell_type": "code",
   "execution_count": 5,
   "id": "b24bfc85",
   "metadata": {},
   "outputs": [
    {
     "data": {
      "text/plain": [
       "forward_diff (generic function with 2 methods)"
      ]
     },
     "execution_count": 5,
     "metadata": {},
     "output_type": "execute_result"
    }
   ],
   "source": [
    "function forward_diff(f::Function, x::Real, Δx::Real)\n",
    "    return (f(x + Δx) - f(x)) / Δx\n",
    "end"
   ]
  },
  {
   "cell_type": "code",
   "execution_count": 8,
   "id": "0cdf8187",
   "metadata": {},
   "outputs": [
    {
     "data": {
      "text/plain": [
       "1.0000004999621837"
      ]
     },
     "execution_count": 8,
     "metadata": {},
     "output_type": "execute_result"
    }
   ],
   "source": [
    "forward_diff(exp, 0, 1e-6)"
   ]
  },
  {
   "cell_type": "markdown",
   "id": "9a5fd347",
   "metadata": {},
   "source": [
    "## Arrays"
   ]
  },
  {
   "cell_type": "code",
   "execution_count": 11,
   "id": "a8b4279a",
   "metadata": {},
   "outputs": [
    {
     "data": {
      "text/plain": [
       "1×3 Matrix{Int64}:\n",
       " 1  2  3"
      ]
     },
     "execution_count": 11,
     "metadata": {},
     "output_type": "execute_result"
    }
   ],
   "source": [
    "A = [1 2 3]"
   ]
  },
  {
   "cell_type": "code",
   "execution_count": 12,
   "id": "a428f70b",
   "metadata": {},
   "outputs": [
    {
     "data": {
      "text/plain": [
       "1×3 Matrix{Float64}:\n",
       " 1.0  2.0  3.0"
      ]
     },
     "execution_count": 12,
     "metadata": {},
     "output_type": "execute_result"
    }
   ],
   "source": [
    "A = [1. 2 3]"
   ]
  },
  {
   "cell_type": "code",
   "execution_count": 17,
   "id": "ab5e165f",
   "metadata": {},
   "outputs": [
    {
     "data": {
      "text/plain": [
       "1.0:1.0:3.0"
      ]
     },
     "execution_count": 17,
     "metadata": {},
     "output_type": "execute_result"
    }
   ],
   "source": [
    "x = range(1, 3, 3)"
   ]
  },
  {
   "cell_type": "markdown",
   "id": "f3be2e8d",
   "metadata": {},
   "source": [
    "### Evaluating elementwise functions\n",
    "\n",
    "### Ugly method"
   ]
  },
  {
   "cell_type": "code",
   "execution_count": 25,
   "id": "11271dbe",
   "metadata": {},
   "outputs": [
    {
     "data": {
      "text/plain": [
       "3-element Vector{Float64}:\n",
       "  2.718281828459045\n",
       "  7.38905609893065\n",
       " 20.085536923187668"
      ]
     },
     "execution_count": 25,
     "metadata": {},
     "output_type": "execute_result"
    }
   ],
   "source": [
    "results = zeros(length(x))\n",
    "\n",
    "for k = 1:length(x)\n",
    "     results[k] = exp(x[k])\n",
    "end\n",
    "\n",
    "results"
   ]
  },
  {
   "cell_type": "markdown",
   "id": "2387498e",
   "metadata": {},
   "source": [
    "### Bad method"
   ]
  },
  {
   "cell_type": "code",
   "execution_count": 27,
   "id": "323e1f79",
   "metadata": {},
   "outputs": [
    {
     "data": {
      "text/plain": [
       "3-element Vector{Float64}:\n",
       "  2.718281828459045\n",
       "  7.38905609893065\n",
       " 20.085536923187668"
      ]
     },
     "execution_count": 27,
     "metadata": {},
     "output_type": "execute_result"
    }
   ],
   "source": [
    "results = [exp(z) for z = x]"
   ]
  },
  {
   "cell_type": "markdown",
   "id": "38806cbb",
   "metadata": {},
   "source": [
    "### Good method"
   ]
  },
  {
   "cell_type": "code",
   "execution_count": 28,
   "id": "43955f24",
   "metadata": {},
   "outputs": [
    {
     "data": {
      "text/plain": [
       "3-element Vector{Float64}:\n",
       "  2.718281828459045\n",
       "  7.38905609893065\n",
       " 20.085536923187668"
      ]
     },
     "execution_count": 28,
     "metadata": {},
     "output_type": "execute_result"
    }
   ],
   "source": [
    "exp.(x)"
   ]
  },
  {
   "cell_type": "markdown",
   "id": "b8366809",
   "metadata": {},
   "source": [
    "## Plotting"
   ]
  },
  {
   "cell_type": "code",
   "execution_count": 29,
   "id": "d74ffb2f",
   "metadata": {},
   "outputs": [],
   "source": [
    "using PyPlot"
   ]
  },
  {
   "cell_type": "code",
   "execution_count": 36,
   "id": "e8f973e3",
   "metadata": {},
   "outputs": [
    {
     "data": {
      "image/png": "[encoded data removed]",
      "text/plain": [
       "Figure(PyObject <Figure size 640x480 with 1 Axes>)"
      ]
     },
     "metadata": {},
     "output_type": "display_data"
    }
   ],
   "source": [
    "x  = range(-10, 10, 200)\n",
    "\n",
    "plot(x, exp.(x))\n",
    "xlabel(\"x\")\n",
    "ylabel(L\"$\\exp(x)$\")\n",
    "show()"
   ]
  },
  {
   "cell_type": "code",
   "execution_count": 40,
   "id": "a5d2f7b0",
   "metadata": {},
   "outputs": [
    {
     "data": {
      "image/png": "[encoded data removed]",
      "text/plain": [
       "Figure(PyObject <Figure size 640x480 with 1 Axes>)"
      ]
     },
     "metadata": {},
     "output_type": "display_data"
    }
   ],
   "source": [
    "x  = range(-10, 10, 200)\n",
    "\n",
    "semilogy(x, exp.(x))\n",
    "xlabel(\"x\")\n",
    "ylabel(L\"$\\exp(x)$\")\n",
    "show()"
   ]
  },
  {
   "cell_type": "markdown",
   "id": "61c93ccc",
   "metadata": {},
   "source": [
    "## Error analysis of the forward finte difference"
   ]
  },
  {
   "cell_type": "code",
   "execution_count": 43,
   "id": "e525737e",
   "metadata": {},
   "outputs": [
    {
     "data": {
      "text/plain": [
       "20-element Vector{Float64}:\n",
       " 1.0e-20\n",
       " 1.0e-19\n",
       " 1.0e-18\n",
       " 1.0e-17\n",
       " 1.0e-16\n",
       " 1.0e-15\n",
       " 1.0e-14\n",
       " 1.0e-13\n",
       " 1.0e-12\n",
       " 1.0e-11\n",
       " 1.0e-10\n",
       " 1.0e-9\n",
       " 1.0e-8\n",
       " 1.0e-7\n",
       " 1.0e-6\n",
       " 1.0e-5\n",
       " 0.0001\n",
       " 0.001\n",
       " 0.010000000000000002\n",
       " 0.1"
      ]
     },
     "execution_count": 43,
     "metadata": {},
     "output_type": "execute_result"
    }
   ],
   "source": [
    "ΔX = 10 .^ range(-20, -1, 20)"
   ]
  },
  {
   "cell_type": "code",
   "execution_count": 55,
   "id": "167202ff",
   "metadata": {},
   "outputs": [
    {
     "data": {
      "text/plain": [
       "20-element Vector{Float64}:\n",
       "  1.0\n",
       "  1.0\n",
       "  1.0\n",
       "  1.0\n",
       "  1.0\n",
       " -0.11022302462515654\n",
       "  0.0007992778373591136\n",
       "  0.0007992778373591136\n",
       " -8.890058234101161e-5\n",
       " -8.274037099909037e-8\n",
       " -8.274037099909037e-8\n",
       " -8.274037099909037e-8\n",
       "  6.07747097092215e-9\n",
       " -4.943368026033568e-8\n",
       " -4.999621836532242e-7\n",
       " -5.000006964905879e-6\n",
       " -5.0001667140975314e-5\n",
       " -0.0005001667083845973\n",
       " -0.005016708416794691\n",
       " -0.051709180756477124"
      ]
     },
     "execution_count": 55,
     "metadata": {},
     "output_type": "execute_result"
    }
   ],
   "source": [
    "exp(0) .- forward_diff.(exp, 0, ΔX)"
   ]
  },
  {
   "cell_type": "code",
   "execution_count": null,
   "id": "1352fd6e",
   "metadata": {},
   "outputs": [],
   "source": []
  }
 ],
 "metadata": {
  "kernelspec": {
   "display_name": "Julia 1.8.0-beta3",
   "language": "julia",
   "name": "julia-1.8"
  },
  "language_info": {
   "file_extension": ".jl",
   "mimetype": "application/julia",
   "name": "julia",
   "version": "1.8.0"
  }
 },
 "nbformat": 4,
 "nbformat_minor": 5
}
