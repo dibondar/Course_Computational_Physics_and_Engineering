{
 "cells": [
  {
   "cell_type": "markdown",
   "id": "dde0cb83",
   "metadata": {},
   "source": [
    "# Intro to Julia and Numerical Differentiations\n",
    "\n",
    "## Forward difference\n",
    "\n",
    "We would like to find the derivative of a function $f(x)$\n",
    "\n",
    "$$\n",
    "  f'(x) = \\lim_{\\Delta x \\to 0} \\frac{f(x+\\Delta x) - f(x)}{\\Delta x}\n",
    "$$\n",
    "Hence,\n",
    "$$\n",
    "  f'(x) \\approx \\frac{f(x+\\Delta x) - f(x)}{\\Delta x}\n",
    "$$\n",
    "or more formaly (using the asymptotic $O$ notation)\n",
    "$$\n",
    "  f'(x) + O(\\Delta x) = \\frac{f(x+\\Delta x) - f(x)}{\\Delta x}\n",
    "$$\n",
    "\n",
    "$$\n",
    "  error = \\left|f'(x) - \\frac{f(x+\\Delta x) - f(x)}{\\Delta x}\\right| =  O(\\Delta x)\n",
    "$$"
   ]
  },
  {
   "cell_type": "markdown",
   "id": "8d4b0f9a",
   "metadata": {},
   "source": [
    "## Example of round-off error"
   ]
  },
  {
   "cell_type": "code",
   "execution_count": 1,
   "id": "baca27ea",
   "metadata": {},
   "outputs": [
    {
     "data": {
      "text/plain": [
       "0.0"
      ]
     },
     "execution_count": 1,
     "metadata": {},
     "output_type": "execute_result"
    }
   ],
   "source": [
    "Δx = 1e-90\n",
    "x = 0\n",
    "\n",
    "(exp(x + Δx) - exp(x)) / Δx"
   ]
  },
  {
   "cell_type": "code",
   "execution_count": 2,
   "id": "755ea944",
   "metadata": {},
   "outputs": [
    {
     "data": {
      "text/plain": [
       "1.0"
      ]
     },
     "execution_count": 2,
     "metadata": {},
     "output_type": "execute_result"
    }
   ],
   "source": [
    "exp(0)"
   ]
  },
  {
   "cell_type": "markdown",
   "id": "68abac16",
   "metadata": {},
   "source": [
    "## Functions"
   ]
  },
  {
   "cell_type": "code",
   "execution_count": 3,
   "id": "b24bfc85",
   "metadata": {},
   "outputs": [
    {
     "data": {
      "text/plain": [
       "forward_diff (generic function with 1 method)"
      ]
     },
     "execution_count": 3,
     "metadata": {},
     "output_type": "execute_result"
    }
   ],
   "source": [
    "function forward_diff(f::Function, x::Real, Δx::Real)\n",
    "    return (f(x + Δx) - f(x)) / Δx\n",
    "end"
   ]
  },
  {
   "cell_type": "code",
   "execution_count": 4,
   "id": "0cdf8187",
   "metadata": {},
   "outputs": [
    {
     "data": {
      "text/plain": [
       "1.0000004999621837"
      ]
     },
     "execution_count": 4,
     "metadata": {},
     "output_type": "execute_result"
    }
   ],
   "source": [
    "forward_diff(exp, 0, 1e-6)"
   ]
  },
  {
   "cell_type": "markdown",
   "id": "9a5fd347",
   "metadata": {},
   "source": [
    "## Arrays"
   ]
  },
  {
   "cell_type": "code",
   "execution_count": 5,
   "id": "a8b4279a",
   "metadata": {},
   "outputs": [
    {
     "data": {
      "text/plain": [
       "1×3 Matrix{Int64}:\n",
       " 1  2  3"
      ]
     },
     "execution_count": 5,
     "metadata": {},
     "output_type": "execute_result"
    }
   ],
   "source": [
    "A = [1 2 3]"
   ]
  },
  {
   "cell_type": "code",
   "execution_count": 6,
   "id": "a428f70b",
   "metadata": {},
   "outputs": [
    {
     "data": {
      "text/plain": [
       "1×3 Matrix{Float64}:\n",
       " 1.0  2.0  3.0"
      ]
     },
     "execution_count": 6,
     "metadata": {},
     "output_type": "execute_result"
    }
   ],
   "source": [
    "A = [1. 2 3]"
   ]
  },
  {
   "cell_type": "code",
   "execution_count": 7,
   "id": "ab5e165f",
   "metadata": {},
   "outputs": [
    {
     "data": {
      "text/plain": [
       "1.0:1.0:3.0"
      ]
     },
     "execution_count": 7,
     "metadata": {},
     "output_type": "execute_result"
    }
   ],
   "source": [
    "x = range(1, 3, 3)"
   ]
  },
  {
   "cell_type": "markdown",
   "id": "f3be2e8d",
   "metadata": {},
   "source": [
    "### Evaluating elementwise functions\n",
    "\n",
    "### Ugly method"
   ]
  },
  {
   "cell_type": "code",
   "execution_count": 8,
   "id": "11271dbe",
   "metadata": {},
   "outputs": [
    {
     "data": {
      "text/plain": [
       "3-element Vector{Float64}:\n",
       "  2.718281828459045\n",
       "  7.38905609893065\n",
       " 20.085536923187668"
      ]
     },
     "execution_count": 8,
     "metadata": {},
     "output_type": "execute_result"
    }
   ],
   "source": [
    "results = zeros(length(x))\n",
    "\n",
    "for k = 1:length(x)\n",
    "     results[k] = exp(x[k])\n",
    "end\n",
    "\n",
    "results"
   ]
  },
  {
   "cell_type": "markdown",
   "id": "2387498e",
   "metadata": {},
   "source": [
    "### Bad method"
   ]
  },
  {
   "cell_type": "code",
   "execution_count": 9,
   "id": "323e1f79",
   "metadata": {},
   "outputs": [
    {
     "data": {
      "text/plain": [
       "3-element Vector{Float64}:\n",
       "  2.718281828459045\n",
       "  7.38905609893065\n",
       " 20.085536923187668"
      ]
     },
     "execution_count": 9,
     "metadata": {},
     "output_type": "execute_result"
    }
   ],
   "source": [
    "results = [exp(z) for z = x]"
   ]
  },
  {
   "cell_type": "markdown",
   "id": "38806cbb",
   "metadata": {},
   "source": [
    "### Good method"
   ]
  },
  {
   "cell_type": "code",
   "execution_count": 10,
   "id": "43955f24",
   "metadata": {},
   "outputs": [
    {
     "data": {
      "text/plain": [
       "3-element Vector{Float64}:\n",
       "  2.718281828459045\n",
       "  7.38905609893065\n",
       " 20.085536923187668"
      ]
     },
     "execution_count": 10,
     "metadata": {},
     "output_type": "execute_result"
    }
   ],
   "source": [
    "exp.(x)"
   ]
  },
  {
   "cell_type": "markdown",
   "id": "b8366809",
   "metadata": {},
   "source": [
    "## Plotting"
   ]
  },
  {
   "cell_type": "code",
   "execution_count": 11,
   "id": "d74ffb2f",
   "metadata": {},
   "outputs": [],
   "source": [
    "using PyPlot"
   ]
  },
  {
   "cell_type": "code",
   "execution_count": 12,
   "id": "e8f973e3",
   "metadata": {},
   "outputs": [
    {
     "name": "stderr",
     "output_type": "stream",
     "text": [
      "sys:1: UserWarning: Matplotlib is currently using agg, which is a non-GUI backend, so cannot show the figure.\n"
     ]
    },
    {
     "data": {
      "image/png": "[encoded data removed]",
      "text/plain": [
       "Figure(PyObject <Figure size 640x480 with 1 Axes>)"
      ]
     },
     "metadata": {},
     "output_type": "display_data"
    }
   ],
   "source": [
    "x  = range(-10, 10, 200)\n",
    "\n",
    "plot(x, exp.(x))\n",
    "xlabel(\"x\")\n",
    "ylabel(L\"$\\exp(x)$\")\n",
    "show()"
   ]
  },
  {
   "cell_type": "code",
   "execution_count": 13,
   "id": "a5d2f7b0",
   "metadata": {},
   "outputs": [
    {
     "data": {
      "image/png": "[encoded data removed]",
      "text/plain": [
       "Figure(PyObject <Figure size 640x480 with 1 Axes>)"
      ]
     },
     "metadata": {},
     "output_type": "display_data"
    }
   ],
   "source": [
    "x  = range(-10, 10, 200)\n",
    "\n",
    "semilogy(x, exp.(x))\n",
    "xlabel(\"x\")\n",
    "ylabel(L\"$\\exp(x)$\")\n",
    "show()"
   ]
  },
  {
   "cell_type": "markdown",
   "id": "61c93ccc",
   "metadata": {},
   "source": [
    "## Error analysis of the forward finte difference"
   ]
  },
  {
   "cell_type": "code",
   "execution_count": 33,
   "id": "e525737e",
   "metadata": {},
   "outputs": [
    {
     "data": {
      "text/plain": [
       "2000-element Vector{Float64}:\n",
       " 1.0000000000000001e-20\n",
       " 1.022126745416898e-20\n",
       " 1.0447430836965402e-20\n",
       " 1.0678598479355586e-20\n",
       " 1.091488110931756e-20\n",
       " 1.1156391904879139e-20\n",
       " 1.1403246548329636e-20\n",
       " 1.1655563281630647e-20\n",
       " 1.1913462963053832e-20\n",
       " 1.2177069125070968e-20\n",
       " 1.2446508033525382e-20\n",
       " 1.2721908748112573e-20\n",
       " 1.3003403184199068e-20\n",
       " ⋮\n",
       " 0.07860455689468451\n",
       " 0.08034381991370136\n",
       " 0.08212156716275297\n",
       " 0.08393865017259998\n",
       " 0.08579593931560721\n",
       " 0.08769432422264738\n",
       " 0.08963471420922885\n",
       " 0.09161803871105295\n",
       " 0.09364524772920799\n",
       " 0.09571731228521461\n",
       " 0.09783522488613933\n",
       " 0.1"
      ]
     },
     "execution_count": 33,
     "metadata": {},
     "output_type": "execute_result"
    }
   ],
   "source": [
    "ΔX = 10 .^ range(-20, -1, 2000)"
   ]
  },
  {
   "cell_type": "code",
   "execution_count": 64,
   "id": "167202ff",
   "metadata": {},
   "outputs": [
    {
     "data": {
      "text/plain": [
       "2000-element Vector{Float64}:\n",
       " 22026.465794806718\n",
       " 22026.465794806718\n",
       " 22026.465794806718\n",
       " 22026.465794806718\n",
       " 22026.465794806718\n",
       " 22026.465794806718\n",
       " 22026.465794806718\n",
       " 22026.465794806718\n",
       " 22026.465794806718\n",
       " 22026.465794806718\n",
       " 22026.465794806718\n",
       " 22026.465794806718\n",
       " 22026.465794806718\n",
       "     ⋮\n",
       "   888.8255276945456\n",
       "   909.0262163033767\n",
       "   929.6982620783383\n",
       "   950.853219657809\n",
       "   972.5029520546232\n",
       "   994.6596400009257\n",
       "  1017.3357916276291\n",
       "  1040.5442524882965\n",
       "  1064.2982159422572\n",
       "  1088.6112339122628\n",
       "  1113.4972280337024\n",
       "  1138.9705012099148"
      ]
     },
     "execution_count": 64,
     "metadata": {},
     "output_type": "execute_result"
    }
   ],
   "source": [
    "forward_diff_error = abs.(exp(10) .- forward_diff.(exp, 10, ΔX))"
   ]
  },
  {
   "cell_type": "code",
   "execution_count": 65,
   "id": "1352fd6e",
   "metadata": {},
   "outputs": [
    {
     "data": {
      "image/png": "[encoded data removed]",
      "text/plain": [
       "Figure(PyObject <Figure size 640x480 with 1 Axes>)"
      ]
     },
     "metadata": {},
     "output_type": "display_data"
    }
   ],
   "source": [
    "loglog(ΔX, forward_diff_error, label=\"error\", \"-\")\n",
    "loglog(ΔX, ΔX, label=L\"O(\\Delta x)\")\n",
    "xlabel(L\"\\Delta x\")\n",
    "ylabel(\"Forward diff error\")\n",
    "title(\"Error analysis of forward diff scheme\")\n",
    "legend()\n",
    "show()"
   ]
  },
  {
   "cell_type": "markdown",
   "id": "81786597",
   "metadata": {},
   "source": [
    "### Round off errors revisted"
   ]
  },
  {
   "cell_type": "code",
   "execution_count": 49,
   "id": "09dab8ce",
   "metadata": {},
   "outputs": [
    {
     "data": {
      "text/plain": [
       "true"
      ]
     },
     "execution_count": 49,
     "metadata": {},
     "output_type": "execute_result"
    }
   ],
   "source": [
    "1. + 1e-16 == 1."
   ]
  },
  {
   "cell_type": "code",
   "execution_count": 58,
   "id": "97bc25e6",
   "metadata": {},
   "outputs": [
    {
     "data": {
      "text/plain": [
       "true"
      ]
     },
     "execution_count": 58,
     "metadata": {},
     "output_type": "execute_result"
    }
   ],
   "source": [
    "0.1 + 1e-18 == 0.1"
   ]
  },
  {
   "cell_type": "code",
   "execution_count": 63,
   "id": "237e27c3",
   "metadata": {},
   "outputs": [
    {
     "data": {
      "text/plain": [
       "true"
      ]
     },
     "execution_count": 63,
     "metadata": {},
     "output_type": "execute_result"
    }
   ],
   "source": [
    "0. + 1e-3000 == 0."
   ]
  },
  {
   "cell_type": "markdown",
   "id": "9ec5ccfa",
   "metadata": {},
   "source": [
    "## Central finite difference\n",
    "\n",
    "Using the Taylor expansion, we get\n",
    "$$\n",
    "    \\frac{f(x + \\Delta x/2) - f(x - \\Delta x/2)}{\\Delta x}=f'(x) + O(\\Delta x^2)\n",
    "$$\n",
    "Hence,\n",
    "$$\n",
    "    error = \\left| f'(x) - \\frac{f(x + \\Delta x/2) - f(x - \\Delta x/2)}{\\Delta x} \\right| =  O(\\Delta x^2).\n",
    "$$"
   ]
  },
  {
   "cell_type": "code",
   "execution_count": null,
   "id": "265fccac",
   "metadata": {},
   "outputs": [],
   "source": []
  }
 ],
 "metadata": {
  "kernelspec": {
   "display_name": "Julia 1.8.5",
   "language": "julia",
   "name": "julia-1.8"
  },
  "language_info": {
   "file_extension": ".jl",
   "mimetype": "application/julia",
   "name": "julia",
   "version": "1.8.5"
  }
 },
 "nbformat": 4,
 "nbformat_minor": 5
}
