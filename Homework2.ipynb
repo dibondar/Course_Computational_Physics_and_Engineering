{
 "cells": [
  {
   "cell_type": "markdown",
   "id": "6db8e8b2",
   "metadata": {},
   "source": [
    "# Homework 2\n",
    "\n",
    "Please follow the guidelines in Sec ***9. Homework Projects*** of the Syllabus. \n",
    "\n",
    "Homework projects must be submitted via Canvas as a *working* Jupyter notebook.\n",
    "\n",
    "**Important Note:** Following Module 3 lecture notes, we will use the harmonic oscillator to test the accuracy in Questions 1 and 2. Specifically, use the absolute error $error = |x(t=4\\pi) - 1|$, where $x(t)$ is the numerical solution obtained by the method specified in the question.\n",
    "\n",
    "## Question 1\n",
    "\n",
    "Implement [the (explicit) forth-order Runge-Kutta method (RK4)](https://dlmf.nist.gov/3.7#v). By plotting $error$ as a function of $N$, find how the errors of explicit RK4, explict RK2, and implicit RK2 scale with $\\Delta t$. "
   ]
  },
  {
   "cell_type": "code",
   "execution_count": null,
   "id": "d5c01012",
   "metadata": {},
   "outputs": [],
   "source": []
  },
  {
   "cell_type": "markdown",
   "id": "5f6d3c53",
   "metadata": {},
   "source": [
    "## Question 2\n",
    "\n",
    "Implement the predictor-corrector method. By plotting $error$ as a function of $N$, find how the errors of the predictor-corrector, explicit RK2, and Omelyan integrator methods scale with $\\Delta t$."
   ]
  },
  {
   "cell_type": "code",
   "execution_count": null,
   "id": "a565d8ce",
   "metadata": {},
   "outputs": [],
   "source": []
  },
  {
   "cell_type": "markdown",
   "id": "80421d41",
   "metadata": {},
   "source": [
    "## Question 3\n",
    "\n",
    "Using the example considered in the lecture notes of the system with the potential energy $U(x) = \\exp(-x^2)$, analyze the energy conservation of explicit RK4."
   ]
  },
  {
   "cell_type": "code",
   "execution_count": null,
   "id": "4a06260c",
   "metadata": {},
   "outputs": [],
   "source": []
  },
  {
   "cell_type": "markdown",
   "id": "3a245697",
   "metadata": {},
   "source": [
    "## Question 4: extra credit for 3170, required for 6170\n",
    "\n",
    "For this problem, we will study a celestial dynamics in 2D. The initial position of your space ship is ${\\bf r}_0 = \\left( 0 \\atop 5 \\right)$. It is located in the neighborhood of a binary star. The coordinate of the two stars are $\\left(-5 \\atop 0 \\right)$ and $\\left(5 \\atop 0\\right)$, respectively. As a result, your ship experiences the gravitational potential\n",
    "$$\n",
    "    U({\\bf r}) = -\\frac{1}{\\sqrt{({\\bf r}_1 + 5)^2 + {\\bf r}_2^2}} -\\frac{1}{\\sqrt{({\\bf r}_1 - 5)^2 + {\\bf r}_2^2}}, \\qquad {\\bf r} = \\left( {\\bf r}_1 \\atop {\\bf r}_2 \\right).\n",
    "$$\n",
    "Assuming a unit mass for your space ship, find its initial velocity ${\\bf v}_0$ such that you make at least 3 rotations around the stars with the engines off.  "
   ]
  },
  {
   "cell_type": "code",
   "execution_count": null,
   "id": "ee6afae6",
   "metadata": {},
   "outputs": [],
   "source": []
  }
 ],
 "metadata": {
  "kernelspec": {
   "display_name": "Julia 1.8.5",
   "language": "julia",
   "name": "julia-1.8"
  },
  "language_info": {
   "file_extension": ".jl",
   "mimetype": "application/julia",
   "name": "julia",
   "version": "1.8.5"
  }
 },
 "nbformat": 4,
 "nbformat_minor": 5
}
