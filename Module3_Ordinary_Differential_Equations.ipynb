{
 "cells": [
  {
   "cell_type": "markdown",
   "id": "dd58a1a2",
   "metadata": {},
   "source": [
    "# Ordinary Differential Equations\n",
    "\n",
    "Chapter 8 of the texbook.\n",
    "\n",
    "In this module we will develop numerical methods for solving ***the initial value problem (IVP) for ordinary differential equations (ODEs)***\n",
    "\n",
    "$$\n",
    "    \\frac{d}{dt} {\\bf y}(t) = {\\bf f}({\\bf y}(t), t), \\qquad\n",
    "    {\\bf y}(t_0) = {\\bf y}_0.\n",
    "$$\n",
    "\n",
    "### Example: A harmonic oscillator \n",
    "$$\n",
    "    \\frac{d^2}{dt^2} x(t) = -\\omega^2 x(t), \\qquad x(0)=1, \\qquad \\frac{d}{dt} x(0) = 0.\n",
    "$$\n",
    "The exact solution $x(t) = \\cos(\\omega t)$.\n",
    "\n",
    "We can re-write the problem as\n",
    "$$\n",
    "    y_1 = x, \\\\\n",
    "\t\\frac{d y_1}{dt} = y_2, \\\\\n",
    "\t\\frac{d y_2}{dt} = \\frac{d^2 x}{dt^2} = -\\omega^2 x = -\\omega^2 y_1.\n",
    "$$\n",
    "\n",
    "$$\n",
    "    {\\bf y}(t) = \\left( y_1(t) \\atop y_2(t) \\right) = \\left( x(t) \\atop \\quad \\frac{dx(t)}{dt} \\right)  \\\\\n",
    "    \\frac{d}{dt} { \\bf y}(t) = \\left( \\frac{d y_1}{dt} \\atop \\frac{d y_2}{dt} \\right) = \\left( y_2 \\atop -\\omega^2 y_1 \\right) \n",
    "$$\n",
    "\n",
    "The initial condition\n",
    "$$\n",
    "    {\\bf y}(0) = \\left( x(0) \\atop \\quad \\frac{dx(0)}{dt} \\right) = \\left(1 \\atop 0\\right).\n",
    "$$\n",
    "\n",
    "## Numerical methods for solving the IVP for ODEs:\n",
    "\n",
    "* Explicit\n",
    "* Implicit\n",
    "* Predictor-corrector\n",
    "* Geometric integrator\n",
    "* Adaptive step size\n",
    "\n",
    "## Explicit Euler's method\n",
    "\n",
    "Using the forward finite difference (see Module 1), we obtaine\n",
    "\n",
    "$$\n",
    "    {\\bf y}_{k + 1} = {\\bf y}_k + {\\bf f}({\\bf y}_k, t_k) \\Delta t + O(\\Delta t^2), \\qquad\n",
    "    k=0,1,2, \\ldots,\n",
    "$$\n",
    "\n",
    "where the time lattice $t_k = k \\Delta t$, ${\\bf y}_k = {\\bf y}(t_k)$. Note that ${\\bf y}_0$ is the given initial condition."
   ]
  },
  {
   "cell_type": "code",
   "execution_count": 1,
   "id": "d4afe7d7",
   "metadata": {},
   "outputs": [
    {
     "data": {
      "text/plain": [
       "explicit_euler (generic function with 1 method)"
      ]
     },
     "execution_count": 1,
     "metadata": {},
     "output_type": "execute_result"
    }
   ],
   "source": [
    "function explicit_euler(𝐟::Function, 𝐲₀::Vector, T_final::Real, N::Int)\n",
    "    Δt = T_final / N\n",
    "    \n",
    "    # initialization\n",
    "    𝐲 = zeros(length(𝐲₀), N + 1)\n",
    "    \n",
    "    𝐲\n",
    "    \n",
    "    return 𝐲\n",
    "end"
   ]
  },
  {
   "cell_type": "code",
   "execution_count": null,
   "id": "44e3bff8",
   "metadata": {},
   "outputs": [],
   "source": []
  },
  {
   "cell_type": "code",
   "execution_count": 3,
   "id": "5ec90b48",
   "metadata": {},
   "outputs": [
    {
     "data": {
      "text/plain": [
       "2-element Vector{Int64}:\n",
       " 1\n",
       " 0"
      ]
     },
     "execution_count": 3,
     "metadata": {},
     "output_type": "execute_result"
    }
   ],
   "source": [
    "𝐲₀ = [1; 0]"
   ]
  },
  {
   "cell_type": "code",
   "execution_count": 14,
   "id": "e101d38d",
   "metadata": {},
   "outputs": [
    {
     "data": {
      "text/plain": [
       "2×5 Matrix{Float64}:\n",
       " 0.0786861  0.0251389  0.994858   0.583211  0.645824\n",
       " 0.433663   0.616499   0.0183802  0.210001  0.662628"
      ]
     },
     "execution_count": 14,
     "metadata": {},
     "output_type": "execute_result"
    }
   ],
   "source": [
    "𝐲 = rand(length(𝐲₀), 5)"
   ]
  },
  {
   "cell_type": "code",
   "execution_count": 18,
   "id": "5ad8e7b9",
   "metadata": {},
   "outputs": [
    {
     "data": {
      "text/plain": [
       "2-element Vector{Float64}:\n",
       " 0.025138929991734504\n",
       " 0.6164986130259474"
      ]
     },
     "execution_count": 18,
     "metadata": {},
     "output_type": "execute_result"
    }
   ],
   "source": [
    "𝐲[:, 2]"
   ]
  },
  {
   "cell_type": "code",
   "execution_count": 9,
   "id": "728c4ac5",
   "metadata": {},
   "outputs": [
    {
     "data": {
      "text/plain": [
       "(2,)"
      ]
     },
     "execution_count": 9,
     "metadata": {},
     "output_type": "execute_result"
    }
   ],
   "source": [
    "size(𝐲₀)"
   ]
  },
  {
   "cell_type": "code",
   "execution_count": null,
   "id": "bf57da7a",
   "metadata": {},
   "outputs": [],
   "source": [
    "₀"
   ]
  }
 ],
 "metadata": {
  "kernelspec": {
   "display_name": "Julia 1.8.5",
   "language": "julia",
   "name": "julia-1.8"
  },
  "language_info": {
   "file_extension": ".jl",
   "mimetype": "application/julia",
   "name": "julia",
   "version": "1.8.5"
  }
 },
 "nbformat": 4,
 "nbformat_minor": 5
}
